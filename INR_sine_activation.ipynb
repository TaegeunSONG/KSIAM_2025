{
  "cells": [
    {
      "cell_type": "markdown",
      "metadata": {
        "id": "view-in-github",
        "colab_type": "text"
      },
      "source": [
        "<a href=\"https://colab.research.google.com/github/TaegeunSONG/KSIAM_2025/blob/main/INR_sine_activation.ipynb\" target=\"_parent\"><img src=\"https://colab.research.google.com/assets/colab-badge.svg\" alt=\"Open In Colab\"/></a>"
      ]
    },
    {
      "cell_type": "markdown",
      "metadata": {
        "id": "0V5ZoLsN0tYQ"
      },
      "source": [
        "## Fourier Transform"
      ]
    },
    {
      "cell_type": "code",
      "execution_count": null,
      "metadata": {
        "id": "9Lrpc-D4yIIi"
      },
      "outputs": [],
      "source": [
        "import numpy as np\n",
        "import matplotlib.pyplot as plt\n",
        "\n",
        "t = np.linspace(0, 5, 1000)\n",
        "f0 = 1\n",
        "y_true = np.sin(2 * np.pi * f0 * t)\n",
        "\n",
        "sample_idx = np.arange(0, len(t), 8)\n",
        "t_sampled = t[sample_idx]\n",
        "y_sampled = y_true[sample_idx]\n",
        "\n",
        "plt.plot(t_sampled, y_sampled, 'o-')\n",
        "plt.show()"
      ]
    },
    {
      "cell_type": "code",
      "execution_count": null,
      "metadata": {
        "id": "7AS1rJeV00NB"
      },
      "outputs": [],
      "source": [
        "dom = 0.098\n",
        "dt = t_sampled[1] - t_sampled[0]\n",
        "\n",
        "oms = []\n",
        "y_dft = []\n",
        "\n",
        "for iom in range(200):\n",
        "    om = dom * iom\n",
        "    real = 0.0\n",
        "    imag = 0.0\n",
        "    for it, time in enumerate(t_sampled):\n",
        "        real += y_sampled[it] * np.cos(om*time)*dt\n",
        "        imag += y_sampled[it] * np.sin(om*time)*dt\n",
        "\n",
        "    y_dft.append(real**2+imag**2)\n",
        "    oms.append(om)\n",
        "\n",
        "plt.plot(oms, y_dft)\n",
        "plt.show()"
      ]
    },
    {
      "cell_type": "code",
      "execution_count": null,
      "metadata": {
        "id": "VH8weDVN037j"
      },
      "outputs": [],
      "source": [
        "# 2. DFT 계산\n",
        "Y_dft = np.fft.fft(y_sampled, n=512)\n",
        "freqs = np.fft.fftfreq(len(Y_dft), d=(t_sampled[1] - t_sampled[0]))\n",
        "\n",
        "Y_dft_mag = np.abs(np.fft.fftshift(Y_dft))\n",
        "freqs_shifted = np.fft.fftshift(freqs)\n",
        "\n",
        "# 4. iDFT 및 ML 기반 복원\n",
        "y_idft = np.fft.ifft(Y_dft).real[:len(t_sampled)]\n",
        "\n",
        "\n",
        "fig, axes = plt.subplots(1, 3, figsize=(16, 4))\n",
        "\n",
        "# Top: Original Signal\n",
        "axes[0].plot(t, y_true, label=r\"$y(x_n)$ - Ground Truth\", alpha=0.6)\n",
        "axes[0].scatter(t_sampled, y_sampled, label=r\"$y(x_n)$ - sampled\", color='orange', s=10)\n",
        "axes[0].set_title(\"Given signal\")\n",
        "axes[0].set_xlabel(\"t [s]\")\n",
        "axes[0].set_ylabel(\"Y(t)\")\n",
        "axes[0].legend()\n",
        "\n",
        "axes[1].stem(freqs_shifted, Y_dft_mag)\n",
        "axes[1].set_title(\"DFT magnitude\")\n",
        "axes[1].set_xlabel(r\"$frequency$\")\n",
        "axes[1].set_ylabel(r\"$w_i^2$\")\n",
        "# axes[1].set_xlim([0,5])\n",
        "\n",
        "axes[2].plot(t_sampled, y_sampled, linewidth=3, label=r\"$y(x_n)$\")\n",
        "axes[2].plot(t_sampled, y_idft, label=r\"$y^{DFT}$\")\n",
        "axes[2].set_title(\"Reconstructed from iDFT\")\n",
        "axes[2].set_xlabel(\"t [s]\")\n",
        "axes[2].set_ylabel(\"Y(t)\")\n",
        "axes[2].legend()\n",
        "\n",
        "plt.show()\n"
      ]
    },
    {
      "cell_type": "markdown",
      "source": [
        "## INR with sine activation"
      ],
      "metadata": {
        "id": "TYFJHLlsKBId"
      }
    },
    {
      "cell_type": "code",
      "execution_count": null,
      "metadata": {
        "id": "6tiWHtS50_7l"
      },
      "outputs": [],
      "source": [
        "import os\n",
        "import tensorflow as tf\n",
        "from tensorflow.python.keras import backend as K\n",
        "from tensorflow.keras.models import Sequential\n",
        "from tensorflow.keras.layers import Dense, Input\n",
        "from tensorflow.keras.optimizers import Adam\n",
        "from tensorflow.keras.callbacks import ModelCheckpoint, EarlyStopping, ReduceLROnPlateau\n",
        "from tensorflow.keras import optimizers, initializers\n",
        "from tensorflow.python.keras.models import load_model\n",
        "\n",
        "class WarmUpCosineDecay(tf.keras.optimizers.schedules.LearningRateSchedule):\n",
        "    def __init__(self, initial_learning_rate, target_learning_rate, warmup_steps, decay_steps):\n",
        "        super().__init__()\n",
        "        self.initial_learning_rate = initial_learning_rate\n",
        "        self.target_learning_rate = target_learning_rate\n",
        "        self.warmup_steps = warmup_steps\n",
        "        self.decay_steps = decay_steps\n",
        "\n",
        "    def __call__(self, step):\n",
        "        step = tf.cast(step, tf.float32)\n",
        "        warmup_steps = tf.cast(self.warmup_steps, tf.float32)\n",
        "        decay_steps = tf.cast(self.decay_steps, tf.float32)\n",
        "\n",
        "        return tf.cond(\n",
        "            step < warmup_steps,\n",
        "            lambda: self.initial_learning_rate + (self.target_learning_rate - self.initial_learning_rate) * step / warmup_steps,\n",
        "            lambda: 0.5 * self.target_learning_rate * (1 + tf.cos(np.pi * (step - warmup_steps) / (decay_steps - warmup_steps)))\n",
        "        )\n",
        "\n",
        "    def get_config(self):\n",
        "        return {\n",
        "            \"initial_learning_rate\": self.initial_learning_rate,\n",
        "            \"target_learning_rate\": self.target_learning_rate,\n",
        "            \"warmup_steps\": self.warmup_steps,\n",
        "            \"decay_steps\": self.decay_steps,\n",
        "        }\n",
        "\n",
        "\n"
      ]
    },
    {
      "cell_type": "code",
      "source": [
        "\n",
        "initial_lr = 1e-7\n",
        "target_lr = 0.1\n",
        "warmup_steps = 100\n",
        "decay_steps = 200\n",
        "\n",
        "schedule = WarmUpCosineDecay(\n",
        "    initial_learning_rate=initial_lr,\n",
        "    target_learning_rate=target_lr,\n",
        "    warmup_steps=warmup_steps,\n",
        "    decay_steps=decay_steps\n",
        ")\n",
        "\n",
        "# step 범위\n",
        "steps = np.arange(0, 1000)\n",
        "lrs = [schedule(step).numpy() for step in steps]\n",
        "\n",
        "# 시각화\n",
        "plt.figure(figsize=(8, 4))\n",
        "plt.plot(steps, lrs)\n",
        "plt.title(\"Learning Rate: WarmUp + Cosine Decay\")\n",
        "plt.xlabel(\"Training Step\")\n",
        "plt.ylabel(\"Learning Rate\")\n",
        "plt.grid(True)\n",
        "plt.tight_layout()\n",
        "plt.show()\n"
      ],
      "metadata": {
        "id": "p8xVYVQV7MKO"
      },
      "execution_count": null,
      "outputs": []
    },
    {
      "cell_type": "code",
      "source": [
        "\n",
        "def sine_activation(x):\n",
        "    return (K.sin(2*np.pi*x))\n",
        "\n",
        "def model_get(nh = 10):\n",
        "    model = Sequential()\n",
        "    model.add(Input(shape=(1,)))\n",
        "    model.add(Dense(nh, activation=sine_activation))\n",
        "    model.add(Dense(1, activation='linear'))\n",
        "    model.summary()\n",
        "    return model\n"
      ],
      "metadata": {
        "id": "0lv0KQO_DnfF"
      },
      "execution_count": null,
      "outputs": []
    },
    {
      "cell_type": "code",
      "execution_count": null,
      "metadata": {
        "id": "433w1x7e167L"
      },
      "outputs": [],
      "source": [
        "model_path = \"./model_save/sine.weights.h5\"\n",
        "\n",
        "cb_checkpoint = ModelCheckpoint(\n",
        "    filepath=model_path,\n",
        "    monitor='loss',\n",
        "    save_best_only=True,         # 가장 좋은 모델만 저장\n",
        "    save_weights_only=True,      # 모델 전체 저장 (구조 + 가중치)\n",
        "    verbose = 1\n",
        ")\n",
        "\n",
        "cb_early_stopping = EarlyStopping(\n",
        "    monitor='loss', patience=600, restore_best_weights=True\n",
        ")\n",
        "\n",
        "lr_schedule = WarmUpCosineDecay(\n",
        "    initial_learning_rate=initial_lr,\n",
        "    target_learning_rate=target_lr,\n",
        "    warmup_steps=warmup_steps,\n",
        "    decay_steps=decay_steps\n",
        ")\n",
        "\n",
        "\n",
        "opt = Adam(learning_rate=lr_schedule)\n",
        "model = model_get(nh=10)\n",
        "\n",
        "model.compile(optimizer=opt, loss='mae')\n",
        "\n",
        "history=model.fit(t_sampled, y_sampled,  epochs=10000, batch_size=10, \\\n",
        "                  callbacks=[cb_checkpoint,cb_early_stopping],verbose=2)\n",
        "\n"
      ]
    },
    {
      "cell_type": "code",
      "execution_count": null,
      "metadata": {
        "id": "hWkoCEK-2VQA"
      },
      "outputs": [],
      "source": [
        "import matplotlib.pyplot as plt\n",
        "y_loss = history.history['loss']\n",
        "\n",
        "x_len = np.arange(len(y_loss))\n",
        "plt.plot(x_len, y_loss, marker='.', c='blue', label=\"Train-set Loss\")\n",
        "# plt.grid()\n",
        "plt.xlabel('epoch')\n",
        "plt.ylabel('loss')\n",
        "plt.yscale('log')\n",
        "# plt.xlim((0,25))\n",
        "plt.show()\n"
      ]
    },
    {
      "cell_type": "code",
      "source": [
        "model_best = model_get()\n",
        "model_best.load_weights(model_path)\n",
        "\n",
        "weight=model_best.get_weights()\n",
        "layers=model_best.layers\n",
        "\n",
        "freq = model_best.layers[0].get_weights()[0][0,:]\n",
        "phase = model_best.layers[0].get_weights()[1]\n",
        "amp = model_best.layers[1].get_weights()[0][:,0]\n",
        "bias = model_best.layers[1].get_weights()[1]"
      ],
      "metadata": {
        "id": "WUxulYYv8lFz"
      },
      "execution_count": null,
      "outputs": []
    },
    {
      "cell_type": "code",
      "source": [
        "## reconstruction\n",
        "gen=[]\n",
        "for it in t_sampled:\n",
        "    recover = 0\n",
        "    for i in range(10):\n",
        "        recover = recover + amp[i] * np.sin(2.0 * np.pi * (freq[i] * it + phase[i]))\n",
        "    gen.append(recover + bias[0])\n",
        "\n",
        "\n",
        "fig, axes = plt.subplots(1, 3, figsize=(16, 4))\n",
        "\n",
        "# Top: Original Signal\n",
        "axes[0].plot(t, y_true, label=r\"$y(x_n)$ - Ground Truth\", alpha=0.6)\n",
        "axes[0].scatter(t_sampled, y_sampled, label=r\"$y(x_n)$ - sampled\", color='orange', s=10)\n",
        "axes[0].set_title(\"Given signal\")\n",
        "axes[0].set_xlabel(\"t [s]\")\n",
        "axes[0].set_ylabel(\"Y(t)\")\n",
        "axes[0].legend()\n",
        "\n",
        "axes[1].stem(freq, amp)\n",
        "axes[1].set_title(\"Amplitude\")\n",
        "axes[1].set_xlabel(r\"$frequency$\")\n",
        "axes[1].set_ylabel(r\"$w_i^2$\")\n",
        "# axes[1].set_xlim([-5,5])\n",
        "\n",
        "axes[2].plot(t, y_true, label=r\"$y(x_n)$ - Ground Truth\", alpha=0.6)\n",
        "axes[2].plot(t_sampled, gen, label=r\"$y(x_n)$\")\n",
        "axes[2].set_title(\"Reconstructed via INR\")\n",
        "axes[2].set_xlabel(\"t [s]\")\n",
        "axes[2].set_ylabel(\"Y(t)\")\n",
        "axes[2].legend()\n",
        "\n",
        "plt.show()"
      ],
      "metadata": {
        "id": "dsxXHrq-6ets"
      },
      "execution_count": null,
      "outputs": []
    },
    {
      "cell_type": "markdown",
      "source": [
        "## Apply to missing data"
      ],
      "metadata": {
        "id": "WPIz9dyaLAbe"
      }
    },
    {
      "cell_type": "code",
      "source": [
        "# missing data generation\n",
        "min_gap_size = 5\n",
        "max_gap_size = 10\n",
        "n_gaps = 5\n",
        "\n",
        "start_indices = np.random.choice(len(y_sampled) - max_gap_size, n_gaps, replace=False)\n",
        "indices_to_remove = []\n",
        "\n",
        "for start in start_indices:\n",
        "    gap_size = np.random.randint(min_gap_size, max_gap_size + 1)\n",
        "    indices_to_remove.extend(range(start, start + gap_size))\n",
        "\n",
        "missing_ydata = np.delete(y_sampled, indices_to_remove)\n",
        "missing_xdata = np.delete(t_sampled, indices_to_remove)\n",
        "\n"
      ],
      "metadata": {
        "id": "0a7WxsqWK_oJ"
      },
      "execution_count": null,
      "outputs": []
    },
    {
      "cell_type": "code",
      "source": [
        "## DFT\n",
        "\n",
        "# 2. DFT 계산\n",
        "Y_dft = np.fft.fft(missing_ydata, n=512)\n",
        "freqs = np.fft.fftfreq(len(Y_dft), d=(t_sampled[1] - t_sampled[0]))\n",
        "\n",
        "Y_dft_mag = np.abs(np.fft.fftshift(Y_dft))\n",
        "freqs_shifted = np.fft.fftshift(freqs)\n",
        "\n",
        "# 4. iDFT 및 ML 기반 복원\n",
        "y_idft = np.fft.ifft(Y_dft).real[:len(t_sampled)]\n",
        "\n",
        "fig, axes = plt.subplots(nrows=2, ncols=1, figsize=(8, 6))\n",
        "fig.subplots_adjust(hspace=0.4, wspace=0.4)\n",
        "\n",
        "axes[0].plot(t_sampled, y_sampled, label=r\"$y(x_n)$\")\n",
        "axes[0].scatter(missing_xdata, missing_ydata, label=r\"$y^{DFT}$\")\n",
        "axes[0].set_title(\"data set\")\n",
        "axes[0].set_xlabel(\"t [s]\")\n",
        "axes[0].set_ylabel(\"Y(t)\")\n",
        "axes[0].legend()\n",
        "\n",
        "\n",
        "\n",
        "axes[1].plot(t_sampled, y_sampled, label=r\"$y(x_n)$\")\n",
        "axes[1].plot(t_sampled, y_idft, label=r\"$y^{DFT}$\")\n",
        "axes[1].set_title(\"Reconstructed from iDFT\")\n",
        "axes[1].set_xlabel(\"t [s]\")\n",
        "axes[1].set_ylabel(\"Y(t)\")\n",
        "axes[1].legend()\n",
        "\n",
        "fig.show()"
      ],
      "metadata": {
        "id": "2TnLBjcl82TP"
      },
      "execution_count": null,
      "outputs": []
    },
    {
      "cell_type": "code",
      "source": [
        "model_path = \"./model_save/sine.weights.h5\"\n",
        "\n",
        "cb_checkpoint = ModelCheckpoint(\n",
        "    filepath=model_path,\n",
        "    monitor='loss',\n",
        "    save_best_only=True,         # 가장 좋은 모델만 저장\n",
        "    save_weights_only=True,      # 모델 전체 저장 (구조 + 가중치)\n",
        "    verbose = 1\n",
        ")\n",
        "\n",
        "cb_early_stopping = EarlyStopping(\n",
        "    monitor='loss', patience=600, restore_best_weights=True\n",
        ")\n",
        "\n",
        "lr_schedule = WarmUpCosineDecay(\n",
        "    initial_learning_rate=initial_lr,\n",
        "    target_learning_rate=target_lr,\n",
        "    warmup_steps=warmup_steps,\n",
        "    decay_steps=decay_steps\n",
        ")\n",
        "\n",
        "\n",
        "opt = Adam(learning_rate=lr_schedule)\n",
        "model = model_get(nh=10)\n",
        "\n",
        "model.compile(optimizer=opt, loss='mae')\n",
        "\n",
        "history=model.fit(missing_xdata, missing_ydata,  epochs=10000, batch_size=10, \\\n",
        "                  callbacks=[cb_checkpoint,cb_early_stopping],verbose=2)\n"
      ],
      "metadata": {
        "id": "yPsa4seBLH0J"
      },
      "execution_count": null,
      "outputs": []
    },
    {
      "cell_type": "code",
      "source": [
        "model_best = model_get()\n",
        "model_best.load_weights(model_path)\n",
        "\n",
        "weight=model_best.get_weights()\n",
        "layers=model_best.layers\n",
        "\n",
        "freq = model_best.layers[0].get_weights()[0][0,:]\n",
        "phase = model_best.layers[0].get_weights()[1]\n",
        "amp = model_best.layers[1].get_weights()[0][:,0]\n",
        "bias = model_best.layers[1].get_weights()[1]\n",
        "\n",
        "## reconstruction\n",
        "gen=[]\n",
        "for it in t_sampled:\n",
        "    recover = 0\n",
        "    for i in range(10):\n",
        "        recover = recover + amp[i] * np.sin(2.0 * np.pi * (freq[i] * it + phase[i]))\n",
        "    gen.append(recover + bias[0])\n",
        "\n",
        "\n",
        "fig, axes = plt.subplots(nrows=2, ncols=1, figsize=(8, 6))\n",
        "fig.subplots_adjust(hspace=0.4, wspace=0.4)\n",
        "\n",
        "axes[0].plot(t_sampled, y_sampled, label=r\"$y(x_n)$\")\n",
        "axes[0].scatter(missing_xdata, missing_ydata, label=r\"$y^{sampled}$\")\n",
        "axes[0].set_title(\"data set\")\n",
        "axes[0].set_xlabel(\"t [s]\")\n",
        "axes[0].set_ylabel(\"Y(t)\")\n",
        "axes[0].legend()\n",
        "\n",
        "\n",
        "\n",
        "axes[1].plot(t_sampled, y_sampled, label=r\"$y(x_n)$\")\n",
        "axes[1].plot(t_sampled, gen, label=r\"$y^{INR}$\")\n",
        "axes[1].set_title(\"Reconstructed via INR\")\n",
        "axes[1].set_xlabel(\"t [s]\")\n",
        "axes[1].set_ylabel(\"Y(t)\")\n",
        "axes[1].legend()\n",
        "\n",
        "fig.show()"
      ],
      "metadata": {
        "id": "_7PyyLEnLV9E"
      },
      "execution_count": null,
      "outputs": []
    },
    {
      "cell_type": "markdown",
      "source": [
        "## Apply to super-resolved"
      ],
      "metadata": {
        "id": "5P6jjx8PMaep"
      }
    },
    {
      "cell_type": "code",
      "source": [
        "from tensorflow.keras import datasets\n",
        "\n",
        "\n",
        "(mnist, _), (_, _) = datasets.mnist.load_data()\n",
        "\n",
        "img = mnist[5]/127.5 - 1 + np.random.normal(0,0.1,mnist[3].shape)\n",
        "# img = mnist[4]/255 + np.random.normal(0,0.1,mnist[3].shape)\n",
        "plt.imshow(img, cmap='gray')"
      ],
      "metadata": {
        "id": "BwBW8s5FLv2V"
      },
      "execution_count": null,
      "outputs": []
    },
    {
      "cell_type": "code",
      "source": [
        "inputs = []\n",
        "outputs = []\n",
        "for i in range(28):\n",
        "    for j in range(28):\n",
        "      inputs.append([i+1,j+1])\n",
        "      outputs.append(img[i,j])\n",
        "\n",
        "inputs = np.array(inputs)\n",
        "outputs = np.array(outputs)"
      ],
      "metadata": {
        "id": "pEmXqwzvQsTC"
      },
      "execution_count": null,
      "outputs": []
    },
    {
      "cell_type": "code",
      "source": [
        "\n",
        "def sine_activation(x):\n",
        "    return (K.sin(2*np.pi*x))\n",
        "\n",
        "def model_get_super(nh = 10):\n",
        "    model = Sequential()\n",
        "    model.add(Input(shape=(2,)))\n",
        "    model.add(Dense(nh, activation=sine_activation))\n",
        "    model.add(Dense(1, activation='linear'))\n",
        "    model.summary()\n",
        "    return model\n"
      ],
      "metadata": {
        "id": "kIl7J1fF0es-"
      },
      "execution_count": null,
      "outputs": []
    },
    {
      "cell_type": "code",
      "source": [
        "initial_lr = 1e-9\n",
        "target_lr = 0.1\n",
        "warmup_steps = 10\n",
        "decay_steps = 100\n",
        "\n",
        "\n",
        "model_path = \"./model_save/sine.weights.h5\"\n",
        "\n",
        "cb_checkpoint = ModelCheckpoint(\n",
        "    filepath=model_path,\n",
        "    monitor='loss',\n",
        "    save_best_only=True,         # 가장 좋은 모델만 저장\n",
        "    save_weights_only=True,      # 모델 전체 저장 (구조 + 가중치)\n",
        "    verbose = 1\n",
        ")\n",
        "\n",
        "cb_early_stopping = EarlyStopping(\n",
        "    monitor='loss', patience=600, restore_best_weights=True\n",
        ")\n",
        "\n",
        "lr_schedule = WarmUpCosineDecay(\n",
        "    initial_learning_rate=initial_lr,\n",
        "    target_learning_rate=target_lr,\n",
        "    warmup_steps=warmup_steps,\n",
        "    decay_steps=decay_steps\n",
        ")\n",
        "\n",
        "reduce_lr = ReduceLROnPlateau(\n",
        "    monitor='loss',\n",
        "    factor=0.5,\n",
        "    patience=30,\n",
        "    min_lr=1e-9,\n",
        "    verbose=1\n",
        ")\n",
        "\n",
        "\n",
        "nh=100\n",
        "\n",
        "# opt = Adam(learning_rate=lr_schedule)\n",
        "opt = Adam()\n",
        "model = model_get_super(nh)\n",
        "\n",
        "model.compile(optimizer=opt, loss='mse')\n",
        "\n",
        "history=model.fit(inputs, outputs, epochs=10000, batch_size=14, \\\n",
        "                  callbacks=[cb_checkpoint,cb_early_stopping,reduce_lr],verbose=2)\n"
      ],
      "metadata": {
        "id": "uOPzQAhA04sX"
      },
      "execution_count": null,
      "outputs": []
    },
    {
      "cell_type": "code",
      "source": [
        "model_best = model_get_super(nh)\n",
        "model_best.load_weights(model_path)\n",
        "\n",
        "weight=model_best.get_weights()\n",
        "layers=model_best.layers\n",
        "\n",
        "freq_x = model_best.layers[0].get_weights()[0][0,:]\n",
        "freq_y = model_best.layers[0].get_weights()[0][1,:]\n",
        "phase = model_best.layers[0].get_weights()[1]\n",
        "amp = model_best.layers[1].get_weights()[0][:,0]\n",
        "bias = model_best.layers[1].get_weights()[1]\n",
        "\n",
        "## reconstruction\n",
        "gen=[]\n",
        "x_sample = np.arange(1,28,0.1)\n",
        "y_sample = np.arange(1,28,0.1)\n",
        "resolved_img = np.zeros((x_sample.shape[0],y_sample.shape[0]))\n",
        "\n",
        "for ix, xcord in enumerate(x_sample):\n",
        "    for iy, ycord in enumerate(y_sample):\n",
        "        recover = 0\n",
        "        for i in range(nh):\n",
        "            recover = recover + amp[i] * np.sin(2.0 * np.pi * (freq_x[i] * xcord + freq_y[i] * ycord + phase[i]))\n",
        "        resolved_img[ix,iy] = recover + bias[0]\n",
        "\n",
        "\n",
        "fig, axes = plt.subplots(nrows=1, ncols=2, figsize=(6, 8))\n",
        "fig.subplots_adjust(hspace=0.4, wspace=0.4)\n",
        "\n",
        "axes[0].imshow(img, cmap='gray')\n",
        "axes[0].set_title(\"oiginal\")\n",
        "axes[0].axis('off')\n",
        "\n",
        "\n",
        "\n",
        "axes[1].imshow(resolved_img, cmap='gray')\n",
        "axes[1].set_title(\"Reconstructed via INR\")\n",
        "axes[1].axis('off')\n",
        "\n",
        "fig.show()"
      ],
      "metadata": {
        "id": "DFNPNLxIVN5d"
      },
      "execution_count": null,
      "outputs": []
    },
    {
      "cell_type": "code",
      "source": [
        "fig, axes = plt.subplots(nrows=1, ncols=2, figsize=(6, 8))\n",
        "fig.subplots_adjust(hspace=0.4, wspace=0.4)\n",
        "\n",
        "axes[0].imshow(img, cmap='gray')\n",
        "axes[0].set_title(\"oiginal\")\n",
        "axes[0].set_xlim([5,14])\n",
        "axes[0].set_ylim([21,12])\n",
        "\n",
        "# axes[0].axis('off')\n",
        "\n",
        "\n",
        "\n",
        "axes[1].imshow(resolved_img, cmap='gray')\n",
        "axes[1].set_title(\"Reconstructed via INR\")\n",
        "axes[1].set_xlim([50,140])\n",
        "axes[1].set_ylim([210,120])\n",
        "# axes[1].axis('off')\n",
        "\n",
        "fig.show()"
      ],
      "metadata": {
        "id": "7ostkbvPhAW9"
      },
      "execution_count": null,
      "outputs": []
    },
    {
      "cell_type": "code",
      "source": [],
      "metadata": {
        "id": "SiaTTAjZ0twJ"
      },
      "execution_count": null,
      "outputs": []
    }
  ],
  "metadata": {
    "colab": {
      "provenance": [],
      "authorship_tag": "ABX9TyNMBAeHfWmhlfwmlITkUBdi",
      "include_colab_link": true
    },
    "kernelspec": {
      "display_name": "Python 3",
      "name": "python3"
    },
    "language_info": {
      "name": "python"
    }
  },
  "nbformat": 4,
  "nbformat_minor": 0
}