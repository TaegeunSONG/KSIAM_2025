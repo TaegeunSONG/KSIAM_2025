{
  "nbformat": 4,
  "nbformat_minor": 0,
  "metadata": {
    "colab": {
      "provenance": [],
      "authorship_tag": "ABX9TyPt7bJAwke8y3pUvx52F4Et"
    },
    "kernelspec": {
      "name": "python3",
      "display_name": "Python 3"
    },
    "language_info": {
      "name": "python"
    }
  },
  "cells": [
    {
      "cell_type": "markdown",
      "source": [
        "## Basic"
      ],
      "metadata": {
        "id": "Bei5XdYoFU1x"
      }
    },
    {
      "cell_type": "code",
      "source": [
        "# data type\n",
        "type(10), type(2.7), type(\"hello\")"
      ],
      "metadata": {
        "id": "ze0Rjln_A-CO"
      },
      "execution_count": null,
      "outputs": []
    },
    {
      "cell_type": "code",
      "source": [
        "# variable\n",
        "x=10; y=4\n",
        "\n",
        "#x, y = 2, 3\n",
        "\n",
        "print(x+y)\n",
        "print(x//y) #몫\n",
        "print(x%y) #나머지"
      ],
      "metadata": {
        "id": "YDfjjKhNFeYz"
      },
      "execution_count": null,
      "outputs": []
    },
    {
      "cell_type": "code",
      "source": [
        "x+=3\n",
        "# x = x+3\n",
        "print(x)"
      ],
      "metadata": {
        "id": "IsEOW0dRDsXC"
      },
      "execution_count": null,
      "outputs": []
    },
    {
      "cell_type": "code",
      "source": [
        "# list\n",
        "a=[1,2,3]\n",
        "print(a)"
      ],
      "metadata": {
        "id": "I1slbr01FrT6"
      },
      "execution_count": null,
      "outputs": []
    },
    {
      "cell_type": "code",
      "source": [
        "len(a) #리스트의 길이를 확인하는 함수"
      ],
      "metadata": {
        "id": "HWMiELcBFuGg"
      },
      "execution_count": null,
      "outputs": []
    },
    {
      "cell_type": "code",
      "source": [
        "a[0]"
      ],
      "metadata": {
        "id": "7iM2EhWNFwbL"
      },
      "execution_count": null,
      "outputs": []
    },
    {
      "cell_type": "code",
      "source": [
        "a[0]=5  #a[0]=5로 업데이트\n",
        "print(a)"
      ],
      "metadata": {
        "id": "itM9lMFNF4RZ"
      },
      "execution_count": null,
      "outputs": []
    },
    {
      "cell_type": "code",
      "source": [
        "a[0:2] #인덱스 0부터 2개의 원소"
      ],
      "metadata": {
        "id": "27M2-L7xF7QE"
      },
      "execution_count": null,
      "outputs": []
    },
    {
      "cell_type": "code",
      "source": [
        "a[1:] #a[1]부터 끝까지"
      ],
      "metadata": {
        "id": "3pGL9vWTGB3w"
      },
      "execution_count": null,
      "outputs": []
    },
    {
      "cell_type": "code",
      "source": [
        "a[:2] #처음부터 a[2] 앞까지"
      ],
      "metadata": {
        "id": "Y9MvOQTbGMHm"
      },
      "execution_count": null,
      "outputs": []
    },
    {
      "cell_type": "code",
      "source": [
        "a[-1] #리스트의 마지막 원소"
      ],
      "metadata": {
        "id": "IyKAPXdtGNxZ"
      },
      "execution_count": null,
      "outputs": []
    },
    {
      "cell_type": "code",
      "source": [
        "a[:-2] #처음부터 마지막 원소의 2개 앞까지"
      ],
      "metadata": {
        "id": "LR-J7qOUGRFP"
      },
      "execution_count": null,
      "outputs": []
    },
    {
      "cell_type": "code",
      "source": [
        "a[0] = \"foo\"\n",
        "print(a)"
      ],
      "metadata": {
        "id": "dghdSE8MGSkg"
      },
      "execution_count": null,
      "outputs": []
    },
    {
      "cell_type": "code",
      "source": [
        "a.append('Hello')\n",
        "print(a)"
      ],
      "metadata": {
        "id": "GcDYRcfGGk-7"
      },
      "execution_count": null,
      "outputs": []
    },
    {
      "cell_type": "code",
      "source": [
        "# dictionary {key: value}\n",
        "dic={'height': 180} # 딕셔너리 생성\n",
        "dic['height'] #원소에 접근"
      ],
      "metadata": {
        "id": "DL6O036WGvVz"
      },
      "execution_count": null,
      "outputs": []
    },
    {
      "cell_type": "code",
      "source": [
        "dic['weight']=70 #새 원소 추가\n",
        "print(dic)"
      ],
      "metadata": {
        "id": "xANHNvwKG9Em"
      },
      "execution_count": null,
      "outputs": []
    },
    {
      "cell_type": "code",
      "source": [
        "dic.keys()"
      ],
      "metadata": {
        "id": "3F8i9JOUHEv0"
      },
      "execution_count": null,
      "outputs": []
    },
    {
      "cell_type": "code",
      "source": [
        "# bool (and, or, not)\n",
        "hungry=True\n",
        "sleepy=False\n",
        "type(hungry)"
      ],
      "metadata": {
        "id": "8piBqNGJHJCO"
      },
      "execution_count": null,
      "outputs": []
    },
    {
      "cell_type": "code",
      "source": [
        "not hungry"
      ],
      "metadata": {
        "id": "cAQ_Gqg5HOie"
      },
      "execution_count": null,
      "outputs": []
    },
    {
      "cell_type": "markdown",
      "source": [
        "## Conditional statement & loop"
      ],
      "metadata": {
        "id": "Lou5nvj2HmQd"
      }
    },
    {
      "cell_type": "code",
      "source": [
        "# if/else\n",
        "hungry=True\n",
        "if hungry:\n",
        "    print(\"Im hungry\")"
      ],
      "metadata": {
        "id": "yD0VLIz_HRdi"
      },
      "execution_count": null,
      "outputs": []
    },
    {
      "cell_type": "code",
      "source": [
        "hungry=False\n",
        "if hungry:\n",
        "    print(\"I'm hungry\")\n",
        "else:\n",
        "    print(\"I'm not hungry\")\n",
        "    print(\"I'm sleepy\")"
      ],
      "metadata": {
        "id": "c47c6DpmH2WP"
      },
      "execution_count": null,
      "outputs": []
    },
    {
      "cell_type": "code",
      "source": [
        "x=1\n",
        "if x==3:\n",
        "    print(\"X equals 3.\")\n",
        "elif x==2:\n",
        "    print(\"x equals 2.\")\n",
        "else:\n",
        "    print(\"X equals something else.\")\n",
        "\n",
        "print(\"This is outside the 'if'.\")"
      ],
      "metadata": {
        "id": "ZYXQKM9qH-s7"
      },
      "execution_count": null,
      "outputs": []
    },
    {
      "cell_type": "code",
      "source": [
        "# for loop\n",
        "for i in [1,2,3]:\n",
        "    print(i)"
      ],
      "metadata": {
        "id": "JSAnAYTfICPh"
      },
      "execution_count": null,
      "outputs": []
    },
    {
      "cell_type": "code",
      "source": [
        "[i**2 for i in range(1,8)]"
      ],
      "metadata": {
        "id": "aBDWnKjUIMI9"
      },
      "execution_count": null,
      "outputs": []
    },
    {
      "cell_type": "code",
      "source": [
        "for i in range(5):\n",
        "    print(i)"
      ],
      "metadata": {
        "id": "owz_0CKhIPTG"
      },
      "execution_count": null,
      "outputs": []
    },
    {
      "cell_type": "code",
      "source": [
        "a = [1, 2, 3, 4]\n",
        "for ind, i in enumerate(a):\n",
        "    print(ind, i)"
      ],
      "metadata": {
        "id": "8YlZHEc6OPLg"
      },
      "execution_count": null,
      "outputs": []
    },
    {
      "cell_type": "code",
      "source": [
        "# function\n",
        "def hello():\n",
        "    print(\"Hello World!\")\n",
        "\n",
        "hello()"
      ],
      "metadata": {
        "id": "NyjnSEd1ObcB"
      },
      "execution_count": null,
      "outputs": []
    },
    {
      "cell_type": "code",
      "source": [
        "def summation(a, b):\n",
        "    c = a + b\n",
        "    return c\n",
        "\n",
        "summation(3,4)"
      ],
      "metadata": {
        "id": "Vo_gefGfOqBw"
      },
      "execution_count": null,
      "outputs": []
    },
    {
      "cell_type": "code",
      "source": [],
      "metadata": {
        "id": "WPcldO3SO1Dh"
      },
      "execution_count": null,
      "outputs": []
    },
    {
      "cell_type": "markdown",
      "source": [
        "## Library"
      ],
      "metadata": {
        "id": "MyfCDlSLO7cr"
      }
    },
    {
      "cell_type": "code",
      "source": [
        "import numpy as np\n",
        "\n",
        "x=np.array([1.0, 2.0, 3.0])\n",
        "print(x)"
      ],
      "metadata": {
        "id": "jcH5-h1rPC8W"
      },
      "execution_count": null,
      "outputs": []
    },
    {
      "cell_type": "code",
      "source": [
        "y=np.array([2.0, 4.0, 6.0])\n",
        "\n",
        "x + y\n",
        "# x * y\n",
        "# x/2"
      ],
      "metadata": {
        "id": "T8I33hdxPJji"
      },
      "execution_count": null,
      "outputs": []
    },
    {
      "cell_type": "code",
      "source": [
        "# index\n",
        "import numpy as np\n",
        "X=np.array([[1,2],[3,4],[5,6]])\n",
        "print(X)\n",
        "#X[0] # 1행\n",
        "#X[0][1] #1행 1열"
      ],
      "metadata": {
        "id": "FTyScXaTPNrj"
      },
      "execution_count": null,
      "outputs": []
    },
    {
      "cell_type": "code",
      "source": [
        "for row in X:\n",
        "    print(row)"
      ],
      "metadata": {
        "id": "qBkcWxV2PP86"
      },
      "execution_count": null,
      "outputs": []
    },
    {
      "cell_type": "code",
      "source": [
        "#convert list to ndarray\n",
        "x=[1,2,3]\n",
        "a=np.asarray(x, dtype=float)\n",
        "print(a)"
      ],
      "metadata": {
        "id": "zILasfAQPkGF"
      },
      "execution_count": null,
      "outputs": []
    },
    {
      "cell_type": "code",
      "source": [
        "# list versus numpy array\n",
        "import numpy as np\n",
        "import time\n",
        "import sys\n",
        "\n",
        "l=range(1000)\n",
        "print(sys.getsizeof(5)*len(l))\n",
        "\n",
        "array=np.arange(1000)\n",
        "print(array.size*array.itemsize)"
      ],
      "metadata": {
        "id": "LFBWwLv3Pptt"
      },
      "execution_count": null,
      "outputs": []
    },
    {
      "cell_type": "code",
      "source": [
        "SIZE=1000000\n",
        "l1=range(SIZE)\n",
        "l2=range(SIZE)\n",
        "a1=np.arange(SIZE)\n",
        "a2=np.arange(SIZE)\n",
        "\n",
        "start=time.time()\n",
        "result = [(x+y) for x,y in zip(l1,l2)]\n",
        "print(\"python list took: \", (time.time()-start)*1000)\n",
        "\n",
        "start=time.time()\n",
        "result = a1+a2\n",
        "print(\"numpy took: \", (time.time()-start)*1000)\n",
        "\n"
      ],
      "metadata": {
        "id": "NVogthjDP5qy"
      },
      "execution_count": null,
      "outputs": []
    },
    {
      "cell_type": "code",
      "source": [
        "# matplotlib\n",
        "import numpy as np\n",
        "import matplotlib.pyplot as plt\n",
        "\n",
        "x=np.arange(0,6,0.1) #0, 0.1, 0.2, ..., 6\n",
        "y1=np.sin(x)\n",
        "y2=np.cos(x)\n",
        "\n",
        "plt.plot(x,y1, label=\"sin\")\n",
        "plt.plot(x,y2, linestyle=\"--\", label=\"cos\")\n",
        "plt.xlabel(\"x\")\n",
        "plt.ylabel(\"y\")\n",
        "plt.title(\"sin & cos\")\n",
        "plt.legend()\n",
        "plt.show()"
      ],
      "metadata": {
        "id": "tzOmYr1qQCOW"
      },
      "execution_count": null,
      "outputs": []
    },
    {
      "cell_type": "code",
      "source": [],
      "metadata": {
        "id": "4e_JxukgY0-L"
      },
      "execution_count": null,
      "outputs": []
    }
  ]
}